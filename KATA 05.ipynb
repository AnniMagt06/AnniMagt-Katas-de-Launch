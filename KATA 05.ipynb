{
 "cells": [
  {
   "cell_type": "markdown",
   "metadata": {},
   "source": [
    "ando dos distancias de planetas: Tierra (149.597.870 km) y Júpiter (778.547.200 km)."
   ]
  },
  {
   "cell_type": "code",
   "execution_count": 3,
   "metadata": {},
   "outputs": [
    {
     "name": "stdout",
     "output_type": "stream",
     "text": [
      "-628949330\n",
      "390577533.93\n"
     ]
    }
   ],
   "source": [
    "Tierra=149597870\n",
    "Jupiter=778547200\n",
    "diference=149597870-778547200\n",
    "print(diference)\n",
    "\n",
    "enmilla=628949330*0.621\n",
    "print(enmilla)\n",
    "\n",
    "\n"
   ]
  },
  {
   "cell_type": "code",
   "execution_count": 15,
   "metadata": {},
   "outputs": [
    {
     "ename": "ValueError",
     "evalue": "invalid literal for int() with base 10: 'Primer_planeta'",
     "output_type": "error",
     "traceback": [
      "\u001b[1;31m---------------------------------------------------------------------------\u001b[0m",
      "\u001b[1;31mValueError\u001b[0m                                Traceback (most recent call last)",
      "\u001b[1;32mUntitled-3.ipynb Cell 3'\u001b[0m in \u001b[0;36m<module>\u001b[1;34m\u001b[0m\n\u001b[0;32m      <a href='vscode-notebook-cell:Untitled-3.ipynb?jupyter-notebook#ch0000002untitled?line=0'>1</a>\u001b[0m Primer_planeta\u001b[39m=\u001b[39m\u001b[39m57900000\u001b[39m\n\u001b[0;32m      <a href='vscode-notebook-cell:Untitled-3.ipynb?jupyter-notebook#ch0000002untitled?line=1'>2</a>\u001b[0m Venus\u001b[39m=\u001b[39m\u001b[39m108200000\u001b[39m\n\u001b[1;32m----> <a href='vscode-notebook-cell:Untitled-3.ipynb?jupyter-notebook#ch0000002untitled?line=3'>4</a>\u001b[0m Primer_planeta\u001b[39m=\u001b[39m\u001b[39mint\u001b[39;49m(\u001b[39m\"\u001b[39;49m\u001b[39mPrimer_planeta\u001b[39;49m\u001b[39m\"\u001b[39;49m)\n",
      "\u001b[1;31mValueError\u001b[0m: invalid literal for int() with base 10: 'Primer_planeta'"
     ]
    }
   ],
   "source": [
    "Primer_planeta=57900000\n",
    "Venus=108200000\n",
    "\n",
    "Primer_planeta=int(\"Primer_planeta\")\n"
   ]
  }
 ],
 "metadata": {
  "interpreter": {
   "hash": "0dda09140a1fd88ea879080486bbeb4c81cc74626dc51b563162033e734c6912"
  },
  "kernelspec": {
   "display_name": "Python 3.10.2 64-bit",
   "language": "python",
   "name": "python3"
  },
  "language_info": {
   "codemirror_mode": {
    "name": "ipython",
    "version": 3
   },
   "file_extension": ".py",
   "mimetype": "text/x-python",
   "name": "python",
   "nbconvert_exporter": "python",
   "pygments_lexer": "ipython3",
   "version": "3.10.2"
  },
  "orig_nbformat": 4
 },
 "nbformat": 4,
 "nbformat_minor": 2
}
