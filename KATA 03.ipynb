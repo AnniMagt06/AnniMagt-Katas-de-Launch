{
 "cells": [
  {
   "cell_type": "markdown",
   "metadata": {},
   "source": [
    "Problema 01"
   ]
  },
  {
   "cell_type": "code",
   "execution_count": 13,
   "metadata": {},
   "outputs": [
    {
     "name": "stdout",
     "output_type": "stream",
     "text": [
      "Peligro, un asteroide cerca\n"
     ]
    }
   ],
   "source": [
    "#Kata03\n",
    "#Para este ejercicio, escribirás una lógica condicional que imprima una advertencia si un asteroide se acerca a la Tierra demasiado rápido. La velocidad del asteroide varía dependiendo de lo cerca que esté del sol, y cualquier velocidad superior a 25 kilómetros por segundo (km/s) merece una advertencia.\n",
    "#Un asteroide se acerca, y viaja a una velocidad de 49 km/s.\n",
    "asteroide= 49\n",
    "if asteroide > 25: \n",
    "    print(\"Peligro, un asteroide cerca\")\n",
    "else: \n",
    "    print(\"No pasa nada, adelante con tu vida personita\")\n"
   ]
  },
  {
   "cell_type": "markdown",
   "metadata": {},
   "source": [
    "Problema 02"
   ]
  },
  {
   "cell_type": "code",
   "execution_count": 42,
   "metadata": {},
   "outputs": [
    {
     "name": "stdout",
     "output_type": "stream",
     "text": [
      "MIRA ESO\n"
     ]
    }
   ],
   "source": [
    "#Si un asteroide entra en la atmósfera de la Tierra a una velocidad mayor o igual a 20 km/s, a veces produce un rayo de luz que se puede ver desde la Tierra. Escribe la lógica condicional que usa declaraciones if, else, y elif para alertar a las personas de todo el mundo que deben buscar un asteroide en el cielo. ¡Hay uno que se dirige a la tierra ahora a una velocidad de 19 km/s!\n",
    "asteroide= 50\n",
    "if asteroide >=20:\n",
    "  print(\"MIRA ESO\")\n",
    "elif asteroide ==20:\n",
    "   print(\"MIra eso\")\n",
    "else:\n",
    "    print(\"todo bien\")\n"
   ]
  },
  {
   "cell_type": "markdown",
   "metadata": {},
   "source": [
    "Problema 03"
   ]
  },
  {
   "cell_type": "code",
   "execution_count": 35,
   "metadata": {},
   "outputs": [
    {
     "name": "stdout",
     "output_type": "stream",
     "text": [
      "¡Corran todos!\n"
     ]
    }
   ],
   "source": [
    "velocidad_asteroide = 100\n",
    "tamano_asteroide = 100\n",
    "if velocidad_asteroide > 25 and tamano_asteroide > 25:\n",
    "    print('¡Corran todos!')\n",
    "elif velocidad_asteroide >= 20:\n",
    "    print('Mira eso!')\n",
    "elif tamano_asteroide < 25:\n",
    "    print('Emm, sigue caminando :)')\n",
    "else:\n",
    "    print('Emmm, sigue caminando :)')"
   ]
  }
 ],
 "metadata": {
  "interpreter": {
   "hash": "0dda09140a1fd88ea879080486bbeb4c81cc74626dc51b563162033e734c6912"
  },
  "kernelspec": {
   "display_name": "Python 3.10.2 64-bit",
   "language": "python",
   "name": "python3"
  },
  "language_info": {
   "codemirror_mode": {
    "name": "ipython",
    "version": 3
   },
   "file_extension": ".py",
   "mimetype": "text/x-python",
   "name": "python",
   "nbconvert_exporter": "python",
   "pygments_lexer": "ipython3",
   "version": "3.10.2"
  },
  "orig_nbformat": 4
 },
 "nbformat": 4,
 "nbformat_minor": 2
}
